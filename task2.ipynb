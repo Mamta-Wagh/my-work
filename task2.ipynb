{
 "cells": [
  {
   "cell_type": "markdown",
   "metadata": {},
   "source": [
    "# Prediction using Supervised ML"
   ]
  },
  {
   "cell_type": "markdown",
   "metadata": {},
   "source": [
    "# Owner:Mamta Wagh"
   ]
  },
  {
   "cell_type": "markdown",
   "metadata": {},
   "source": [
    "# Mail ID:waghm9090@gmail.com"
   ]
  },
  {
   "cell_type": "markdown",
   "metadata": {},
   "source": [
    "From the given ‘Iris’ dataset, predict the optimum number of clusters and represent it visually."
   ]
  },
  {
   "cell_type": "code",
   "execution_count": 7,
   "metadata": {},
   "outputs": [
    {
     "name": "stdout",
     "output_type": "stream",
     "text": [
      "<class 'pandas.core.frame.DataFrame'>\n",
      "RangeIndex: 150 entries, 0 to 149\n",
      "Data columns (total 4 columns):\n",
      " #   Column             Non-Null Count  Dtype  \n",
      "---  ------             --------------  -----  \n",
      " 0   sepal length (cm)  150 non-null    float64\n",
      " 1   sepal width (cm)   150 non-null    float64\n",
      " 2   petal length (cm)  150 non-null    float64\n",
      " 3   petal width (cm)   150 non-null    float64\n",
      "dtypes: float64(4)\n",
      "memory usage: 4.8 KB\n"
     ]
    }
   ],
   "source": [
    "# Loading all the required libraries \n",
    "from sklearn.datasets import load_iris\n",
    "import pandas as pd\n",
    "import matplotlib.pyplot as plt\n",
    "from sklearn.model_selection import train_test_split\n",
    "iris=load_iris()\n",
    "datasetx=pd.DataFrame(iris.data[:,:])\n",
    "datasetx.columns=iris.feature_names\n",
    "datasetx.info()\n"
   ]
  },
  {
   "cell_type": "code",
   "execution_count": 8,
   "metadata": {},
   "outputs": [
    {
     "name": "stdout",
     "output_type": "stream",
     "text": [
      "[0 0 0 0 0 0 0 0 0 0 0 0 0 0 0 0 0 0 0 0 0 0 0 0 0 0 0 0 0 0 0 0 0 0 0 0 0\n",
      " 0 0 0 0 0 0 0 0 0 0 0 0 0 1 1 1 1 1 1 1 1 1 1 1 1 1 1 1 1 1 1 1 1 1 1 1 1\n",
      " 1 1 1 1 1 1 1 1 1 1 1 1 1 1 1 1 1 1 1 1 1 1 1 1 1 1 2 2 2 2 2 2 2 2 2 2 2\n",
      " 2 2 2 2 2 2 2 2 2 2 2 2 2 2 2 2 2 2 2 2 2 2 2 2 2 2 2 2 2 2 2 2 2 2 2 2 2\n",
      " 2 2]\n",
      "['setosa' 'versicolor' 'virginica']\n",
      "<class 'pandas.core.frame.DataFrame'>\n",
      "RangeIndex: 150 entries, 0 to 149\n",
      "Data columns (total 4 columns):\n",
      " #   Column             Non-Null Count  Dtype  \n",
      "---  ------             --------------  -----  \n",
      " 0   sepal length (cm)  150 non-null    float64\n",
      " 1   sepal width (cm)   150 non-null    float64\n",
      " 2   petal length (cm)  150 non-null    float64\n",
      " 3   petal width (cm)   150 non-null    float64\n",
      "dtypes: float64(4)\n",
      "memory usage: 4.8 KB\n",
      "None\n"
     ]
    }
   ],
   "source": [
    "#Normalize the data\n",
    "print(iris.target)\n",
    "print(iris.target_names)\n",
    "datasetx_norm=(datasetx-datasetx.mean())/(datasetx.std())\n",
    "print(datasetx_norm.info())\n"
   ]
  },
  {
   "cell_type": "code",
   "execution_count": 9,
   "metadata": {},
   "outputs": [
    {
     "name": "stdout",
     "output_type": "stream",
     "text": [
      "0    1.015602\n",
      "1   -0.131539\n",
      "2    0.327318\n",
      "3    0.097889\n",
      "4    1.245030\n",
      "Name: sepal width (cm), dtype: float64\n",
      "[[-0.05005221 -0.88042696  0.34657675  0.28058731]\n",
      " [-1.01119138  0.85041372 -1.30063009 -1.25070352]\n",
      " [ 1.13217737  0.08812645  0.99282844  1.01412869]]\n"
     ]
    }
   ],
   "source": [
    "print(datasetx_norm.iloc[:5,1])\n",
    "from sklearn.cluster import KMeans\n",
    "model=KMeans(n_clusters=3,random_state=20)\n",
    "model.fit_predict(datasetx_norm)\n",
    "print(model.cluster_centers_)   #print cluster centroids"
   ]
  },
  {
   "cell_type": "code",
   "execution_count": 10,
   "metadata": {},
   "outputs": [
    {
     "name": "stdout",
     "output_type": "stream",
     "text": [
      "col_0   0   1   2\n",
      "row_0            \n",
      "0       0  50   0\n",
      "1      39   0  11\n",
      "2      14   0  36\n"
     ]
    }
   ],
   "source": [
    "model=KMeans(n_clusters=3,random_state=20)\n",
    "labels=model.fit_predict(datasetx_norm)\n",
    "ct=pd.crosstab(iris.target,labels)\n",
    "print(ct)"
   ]
  },
  {
   "cell_type": "code",
   "execution_count": 11,
   "metadata": {},
   "outputs": [
    {
     "data": {
      "text/plain": [
       "sepal length (cm)    1.132177\n",
       "sepal width (cm)     0.088126\n",
       "petal length (cm)    0.992828\n",
       "petal width (cm)     1.014129\n",
       "dtype: float64"
      ]
     },
     "execution_count": 11,
     "metadata": {},
     "output_type": "execute_result"
    }
   ],
   "source": [
    "datasetx_norm[labels==2].mean()"
   ]
  },
  {
   "cell_type": "code",
   "execution_count": 12,
   "metadata": {},
   "outputs": [
    {
     "name": "stdout",
     "output_type": "stream",
     "text": [
      "138.88835971735148\n"
     ]
    }
   ],
   "source": [
    "#Calculate sum of squares of errors for all clusters for 3 clusters\n",
    "temp=0\n",
    "import numpy as np\n",
    "for j in range(3):\n",
    "    temp+=np.sum((datasetx_norm[labels==j]-datasetx_norm[labels==j].mean())**2).sum()\n",
    "print(temp)"
   ]
  },
  {
   "cell_type": "code",
   "execution_count": 13,
   "metadata": {},
   "outputs": [],
   "source": [
    "#Calculate sum of squares of errors for 0th clusster\n",
    "temp=0\n",
    "import numpy as np\n",
    "for j in range(3):\n",
    "    temp+=np.sum((datasetx_norm[labels==j]-datasetx_norm[labels==j].mean())**2).sum()"
   ]
  },
  {
   "cell_type": "code",
   "execution_count": 14,
   "metadata": {},
   "outputs": [
    {
     "name": "stdout",
     "output_type": "stream",
     "text": [
      "number of clusters =  1  Mean squarred Error Sum = 734.8883597173515\n",
      "number of clusters =  2  Mean squarred Error Sum = 220.8792935985897\n",
      "number of clusters =  3  Mean squarred Error Sum = 138.88835971735148\n",
      "number of clusters =  4  Mean squarred Error Sum = 113.54277129644385\n",
      "number of clusters =  5  Mean squarred Error Sum = 90.2278160744687\n",
      "number of clusters =  6  Mean squarred Error Sum = 80.97628723407989\n",
      "number of clusters =  7  Mean squarred Error Sum = 71.33837730096539\n",
      "number of clusters =  8  Mean squarred Error Sum = 62.44699438642031\n",
      "number of clusters =  9  Mean squarred Error Sum = 53.81279472358277\n",
      "number of clusters =  10  Mean squarred Error Sum = 47.15757337695784\n"
     ]
    }
   ],
   "source": [
    "wsse=np.zeros(10)\n",
    "for i in range(1,11):\n",
    "    model=KMeans(n_clusters=i,random_state=20)\n",
    "    model.fit_predict(datasetx_norm)\n",
    "    labels=model.fit_predict(datasetx_norm)\n",
    "    ct=pd.crosstab(iris.target,labels)\n",
    "    for j in range(i):\n",
    "        temp+=np.sum((datasetx_norm[labels==j]-datasetx_norm[labels==j].mean())**2).sum()\n",
    "    print(\"number of clusters = \",i,\" Mean squarred Error Sum =\", temp)\n",
    "    wsse[i-1]=temp\n",
    "    temp=0"
   ]
  },
  {
   "cell_type": "code",
   "execution_count": 15,
   "metadata": {},
   "outputs": [],
   "source": [
    "#Above Elbow chart can be drwan in shortcut as below:\n",
    "ks=range(1,11)\n",
    "inertias=[]\n",
    "for k in ks:\n",
    "    model=KMeans(n_clusters=k)\n",
    "    model.fit(datasetx_norm)\n",
    "    inertias.append(model.inertia_)\n"
   ]
  },
  {
   "cell_type": "code",
   "execution_count": 16,
   "metadata": {},
   "outputs": [
    {
     "data": {
      "image/png": "[encoded data removed]",
      "text/plain": [
       "<Figure size 432x288 with 1 Axes>"
      ]
     },
     "metadata": {
      "needs_background": "light"
     },
     "output_type": "display_data"
    }
   ],
   "source": [
    "plt.plot(ks,inertias,'-o')\n",
    "plt.xlabel('number of clusters, k')\n",
    "plt.ylabel('inertia')\n",
    "plt.xticks(ks)\n",
    "plt.show()"
   ]
  },
  {
   "cell_type": "markdown",
   "metadata": {},
   "source": [
    "# Using the elbow curve , we can easily find out 3 is the minimum number of cluster to choose"
   ]
  }
 ],
 "metadata": {
  "kernelspec": {
   "display_name": "Python 3",
   "language": "python",
   "name": "python3"
  },
  "language_info": {
   "codemirror_mode": {
    "name": "ipython",
    "version": 3
   },
   "file_extension": ".py",
   "mimetype": "text/x-python",
   "name": "python",
   "nbconvert_exporter": "python",
   "pygments_lexer": "ipython3",
   "version": "3.7.6"
  }
 },
 "nbformat": 4,
 "nbformat_minor": 4
}
