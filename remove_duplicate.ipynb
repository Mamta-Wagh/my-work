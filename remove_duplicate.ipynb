{
 "cells": [
  {
   "cell_type": "code",
   "execution_count": null,
   "metadata": {},
   "outputs": [],
   "source": [
    "# import required libraries \n",
    "import pandas as pd\n",
    "import numpy as np\n",
    "\n",
    "# read the csv file in df \n",
    "df=pd.read_csv(\"file.csv\")\n",
    "\n",
    "# check duplicate values from specified clomuns .\n",
    "duplicates = df.duplicated(subset=['Column1','Column2'])\n",
    "\n",
    "# remove all duplicates from specified columns and keep first duplicate value \n",
    "df = df.drop_duplicates(subset=['Column1', 'Column2'], keep='first') \n",
    "\n",
    "#print df \n",
    "df\n"
   ]
  }
 ],
 "metadata": {
  "kernelspec": {
   "display_name": "Python 3",
   "language": "python",
   "name": "python3"
  },
  "language_info": {
   "codemirror_mode": {
    "name": "ipython",
    "version": 3
   },
   "file_extension": ".py",
   "mimetype": "text/x-python",
   "name": "python",
   "nbconvert_exporter": "python",
   "pygments_lexer": "ipython3",
   "version": "3.7.6"
  }
 },
 "nbformat": 4,
 "nbformat_minor": 4
}
